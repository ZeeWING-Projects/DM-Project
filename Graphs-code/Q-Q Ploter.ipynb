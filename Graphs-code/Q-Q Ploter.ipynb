{
 "cells": [
  {
   "cell_type": "code",
   "execution_count": 1,
   "metadata": {},
   "outputs": [],
   "source": [
    "import numpy as np\n",
    "import pandas as pd\n",
    "import csv\n",
    "import statsmodels.api as sm\n",
    "import pylab as py"
   ]
  },
  {
   "cell_type": "code",
   "execution_count": 2,
   "metadata": {},
   "outputs": [],
   "source": [
    "#READING DATA SET\n",
    "\n",
    "df = pd.read_csv(\"Dataset_01_non_standarized_.csv\")\n",
    "# df = pd.read_csv(\"Dataset_01_standarized_.csv\")\n"
   ]
  },
  {
   "cell_type": "code",
   "execution_count": 3,
   "metadata": {},
   "outputs": [],
   "source": [
    "#  13.0 = Snack Food, 4.0 =  Diary, 1.0 = bread and meat=10.0\n",
    "data1 = df.loc[df['Item_Type'] == 13]['Item_Weight']\n",
    "data2 = df.loc[df['Item_Type'] == 4]['Item_Weight']\n",
    "data3 = df.loc[df['Item_Type'] == 10]['Item_Weight']\n",
    "data4 = df.loc[df['Item_Type'] == 1]['Item_Weight']\n"
   ]
  },
  {
   "cell_type": "code",
   "execution_count": null,
   "metadata": {},
   "outputs": [],
   "source": []
  }
 ],
 "metadata": {
  "kernelspec": {
   "display_name": "Python 3",
   "language": "python",
   "name": "python3"
  },
  "language_info": {
   "codemirror_mode": {
    "name": "ipython",
    "version": 3
   },
   "file_extension": ".py",
   "mimetype": "text/x-python",
   "name": "python",
   "nbconvert_exporter": "python",
   "pygments_lexer": "ipython3",
   "version": "3.8.5"
  }
 },
 "nbformat": 4,
 "nbformat_minor": 4
}
