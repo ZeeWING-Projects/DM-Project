{
 "cells": [
  {
   "cell_type": "code",
   "execution_count": 16,
   "metadata": {},
   "outputs": [],
   "source": [
    "import numpy as np\n",
    "import math"
   ]
  },
  {
   "cell_type": "code",
   "execution_count": 19,
   "metadata": {},
   "outputs": [
    {
     "name": "stdout",
     "output_type": "stream",
     "text": [
      "Sensitivity\n",
      "88.14285714285714\n",
      "Specificity\n",
      "43.333333333333336\n",
      "Percision\n",
      "78.3989834815756\n",
      "Negative_Prid_Value\n",
      "61.03286384976526\n",
      "Accuracy\n",
      "74.7\n",
      "MCC\n",
      "0.35230162324765807\n"
     ]
    }
   ],
   "source": [
    "#              Pridicted  Y     N                  \n",
    "#        Actual      Y   [TP   FN]\n",
    "#        Actual      N   [FP   TN]\n",
    "\n",
    "\n",
    "TP = 617\n",
    "FN = 83\n",
    "FP = 170\n",
    "TN = 130\n",
    "\n",
    "P=(TP+FN)\n",
    "Sensitivity = (TP/P)*100\n",
    "\n",
    "P=(TN+FP)\n",
    "Specificity=(TN/P)*100\n",
    "\n",
    "P=(TP+FP)\n",
    "Percision = (TP/P)*100\n",
    "P=(TN+FN)\n",
    "Negative_Prid_Value = (TN/P)*100\n",
    "\n",
    "N = TP+TN\n",
    "P=TP+TN+FP+FN\n",
    "\n",
    "Accuracy = (N/P)*100\n",
    "\n",
    "N = ((TP*TN)-(FP*FN))\n",
    "P = math.sqrt((TP+FP)*(TP+FN)*(TN+FP)*(TN+FN))\n",
    "\n",
    "MCC = (N/P)\n",
    "\n",
    "print(\"Sensitivity\")\n",
    "print(Sensitivity)\n",
    "\n",
    "print(\"Specificity\")\n",
    "print(Specificity)\n",
    "\n",
    "print(\"Percision\")\n",
    "print(Percision)\n",
    "\n",
    "print(\"Negative_Prid_Value\")\n",
    "print(Negative_Prid_Value)\n",
    "\n",
    "\n",
    "print(\"Accuracy\")\n",
    "print(Accuracy)\n",
    "\n",
    "print(\"MCC\")\n",
    "print(MCC)\n",
    "\n",
    "\n"
   ]
  },
  {
   "cell_type": "code",
   "execution_count": null,
   "metadata": {},
   "outputs": [],
   "source": []
  }
 ],
 "metadata": {
  "kernelspec": {
   "display_name": "Python 3",
   "language": "python",
   "name": "python3"
  },
  "language_info": {
   "codemirror_mode": {
    "name": "ipython",
    "version": 3
   },
   "file_extension": ".py",
   "mimetype": "text/x-python",
   "name": "python",
   "nbconvert_exporter": "python",
   "pygments_lexer": "ipython3",
   "version": "3.8.5"
  }
 },
 "nbformat": 4,
 "nbformat_minor": 4
}
